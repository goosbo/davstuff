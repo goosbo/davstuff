{
 "cells": [
  {
   "cell_type": "code",
   "execution_count": 1,
   "metadata": {},
   "outputs": [],
   "source": [
    "# Data Visualization\n",
    "# BTech Computer Science Stream\n",
    "# Week 4: pandas and data handling\n",
    "# Kenneth Francis Rodrigues, 240905112, 3/1/2025"
   ]
  },
  {
   "cell_type": "code",
   "execution_count": 2,
   "metadata": {},
   "outputs": [],
   "source": [
    "# Problem 1\n",
    "# 1. Create a Series from a list of integers representing daily\n",
    "# temperatures (in Celsius) over a week. Assign index labels as day\n",
    "# of the week.\n",
    "# a. Find and print the average (mean) temperature for the week.\n",
    "# b. Identify and print the maximum and minimum temperatures\n",
    "# and their respective days.\n",
    "# c. Display the temperatures greater than a specific value.\n",
    "# d. Convert all temperatures to Fahrenheit.\n",
    "# e. Print the days had temperatures above the average."
   ]
  },
  {
   "cell_type": "code",
   "execution_count": 3,
   "metadata": {},
   "outputs": [],
   "source": [
    "import pandas as pd"
   ]
  },
  {
   "cell_type": "code",
   "execution_count": 4,
   "metadata": {},
   "outputs": [
    {
     "data": {
      "text/plain": [
       "Monday       23\n",
       "Tuesday      27\n",
       "Wednesday    31\n",
       "Thursday     15\n",
       "Friday       25\n",
       "Saturday      5\n",
       "Sunday       19\n",
       "dtype: int64"
      ]
     },
     "execution_count": 4,
     "metadata": {},
     "output_type": "execute_result"
    }
   ],
   "source": [
    "temperatures = [23, 27, 31, 15, 25, 5, 19]\n",
    "days = ['Monday', 'Tuesday', 'Wednesday', 'Thursday', 'Friday', 'Saturday', 'Sunday']\n",
    "temperature_series = pd.Series(temperatures, index=days)\n",
    "temperature_series"
   ]
  },
  {
   "cell_type": "code",
   "execution_count": 5,
   "metadata": {},
   "outputs": [
    {
     "name": "stdout",
     "output_type": "stream",
     "text": [
      "Average temperature for the week: 20.714285714285715°C\n"
     ]
    }
   ],
   "source": [
    "average_temp = temperature_series.mean()\n",
    "print(f\"Average temperature for the week: {average_temp}°C\")"
   ]
  },
  {
   "cell_type": "code",
   "execution_count": 6,
   "metadata": {},
   "outputs": [
    {
     "name": "stdout",
     "output_type": "stream",
     "text": [
      "Maximum temperature: 31°C on Wednesday\n",
      "Minimum temperature: 5°C on Saturday\n"
     ]
    }
   ],
   "source": [
    "max_temp = temperature_series.max()\n",
    "max_temp_day = temperature_series.idxmax()\n",
    "min_temp = temperature_series.min()\n",
    "min_temp_day = temperature_series.idxmin()\n",
    "print(f\"Maximum temperature: {max_temp}°C on {max_temp_day}\")\n",
    "print(f\"Minimum temperature: {min_temp}°C on {min_temp_day}\")"
   ]
  },
  {
   "cell_type": "code",
   "execution_count": 7,
   "metadata": {},
   "outputs": [
    {
     "name": "stdout",
     "output_type": "stream",
     "text": [
      "Temperatures greater than 23°C\n"
     ]
    },
    {
     "data": {
      "text/plain": [
       "Tuesday      27\n",
       "Wednesday    31\n",
       "Friday       25\n",
       "dtype: int64"
      ]
     },
     "execution_count": 7,
     "metadata": {},
     "output_type": "execute_result"
    }
   ],
   "source": [
    "temperatures_above_value = temperature_series[temperature_series > 23]\n",
    "print('Temperatures greater than 23°C')\n",
    "temperatures_above_value"
   ]
  },
  {
   "cell_type": "code",
   "execution_count": 8,
   "metadata": {},
   "outputs": [
    {
     "data": {
      "text/plain": [
       "Monday       73.4\n",
       "Tuesday      80.6\n",
       "Wednesday    87.8\n",
       "Thursday     59.0\n",
       "Friday       77.0\n",
       "Saturday     41.0\n",
       "Sunday       66.2\n",
       "dtype: float64"
      ]
     },
     "execution_count": 8,
     "metadata": {},
     "output_type": "execute_result"
    }
   ],
   "source": [
    "temperature_series_fahrenheit = (temperature_series * 9/5) + 32\n",
    "temperature_series_fahrenheit"
   ]
  },
  {
   "cell_type": "code",
   "execution_count": 9,
   "metadata": {},
   "outputs": [
    {
     "data": {
      "text/plain": [
       "Monday       23\n",
       "Tuesday      27\n",
       "Wednesday    31\n",
       "Friday       25\n",
       "dtype: int64"
      ]
     },
     "execution_count": 9,
     "metadata": {},
     "output_type": "execute_result"
    }
   ],
   "source": [
    "days_above_average = temperature_series[temperature_series > average_temp]\n",
    "days_above_average"
   ]
  },
  {
   "cell_type": "code",
   "execution_count": 10,
   "metadata": {},
   "outputs": [],
   "source": [
    "# Problem 2\n",
    "# 2. Create a data frame with details of 10 students and columns as\n",
    "# Roll Number, Name, Gender, Marks1, Marks2, Marks3.\n",
    "# a. Create a new column with total marks\n",
    "# b. Find the lowest marks in Marks1\n",
    "# c. Find the Highest marks in Marks2\n",
    "# d. Find the average marks in Marks3\n",
    "# e. Find student name with highest average\n",
    "# f. Find how many students failed in Marks2 (<40)"
   ]
  },
  {
   "cell_type": "code",
   "execution_count": 11,
   "metadata": {},
   "outputs": [
    {
     "data": {
      "text/html": [
       "<div>\n",
       "<style scoped>\n",
       "    .dataframe tbody tr th:only-of-type {\n",
       "        vertical-align: middle;\n",
       "    }\n",
       "\n",
       "    .dataframe tbody tr th {\n",
       "        vertical-align: top;\n",
       "    }\n",
       "\n",
       "    .dataframe thead th {\n",
       "        text-align: right;\n",
       "    }\n",
       "</style>\n",
       "<table border=\"1\" class=\"dataframe\">\n",
       "  <thead>\n",
       "    <tr style=\"text-align: right;\">\n",
       "      <th></th>\n",
       "      <th>Roll Number</th>\n",
       "      <th>Name</th>\n",
       "      <th>Gender</th>\n",
       "      <th>Marks1</th>\n",
       "      <th>Marks2</th>\n",
       "      <th>Marks3</th>\n",
       "    </tr>\n",
       "  </thead>\n",
       "  <tbody>\n",
       "    <tr>\n",
       "      <th>0</th>\n",
       "      <td>1</td>\n",
       "      <td>Ada</td>\n",
       "      <td>F</td>\n",
       "      <td>85</td>\n",
       "      <td>45</td>\n",
       "      <td>75</td>\n",
       "    </tr>\n",
       "    <tr>\n",
       "      <th>1</th>\n",
       "      <td>2</td>\n",
       "      <td>Alan</td>\n",
       "      <td>M</td>\n",
       "      <td>72</td>\n",
       "      <td>38</td>\n",
       "      <td>80</td>\n",
       "    </tr>\n",
       "    <tr>\n",
       "      <th>2</th>\n",
       "      <td>3</td>\n",
       "      <td>Grace</td>\n",
       "      <td>F</td>\n",
       "      <td>90</td>\n",
       "      <td>50</td>\n",
       "      <td>85</td>\n",
       "    </tr>\n",
       "    <tr>\n",
       "      <th>3</th>\n",
       "      <td>4</td>\n",
       "      <td>Linus</td>\n",
       "      <td>M</td>\n",
       "      <td>65</td>\n",
       "      <td>42</td>\n",
       "      <td>70</td>\n",
       "    </tr>\n",
       "    <tr>\n",
       "      <th>4</th>\n",
       "      <td>5</td>\n",
       "      <td>Tim</td>\n",
       "      <td>M</td>\n",
       "      <td>88</td>\n",
       "      <td>55</td>\n",
       "      <td>90</td>\n",
       "    </tr>\n",
       "    <tr>\n",
       "      <th>5</th>\n",
       "      <td>6</td>\n",
       "      <td>Margaret</td>\n",
       "      <td>F</td>\n",
       "      <td>92</td>\n",
       "      <td>60</td>\n",
       "      <td>88</td>\n",
       "    </tr>\n",
       "    <tr>\n",
       "      <th>6</th>\n",
       "      <td>7</td>\n",
       "      <td>Guido</td>\n",
       "      <td>M</td>\n",
       "      <td>78</td>\n",
       "      <td>35</td>\n",
       "      <td>82</td>\n",
       "    </tr>\n",
       "    <tr>\n",
       "      <th>7</th>\n",
       "      <td>8</td>\n",
       "      <td>Dennis</td>\n",
       "      <td>M</td>\n",
       "      <td>81</td>\n",
       "      <td>48</td>\n",
       "      <td>79</td>\n",
       "    </tr>\n",
       "    <tr>\n",
       "      <th>8</th>\n",
       "      <td>9</td>\n",
       "      <td>Katherine</td>\n",
       "      <td>F</td>\n",
       "      <td>95</td>\n",
       "      <td>52</td>\n",
       "      <td>92</td>\n",
       "    </tr>\n",
       "    <tr>\n",
       "      <th>9</th>\n",
       "      <td>10</td>\n",
       "      <td>Elon</td>\n",
       "      <td>M</td>\n",
       "      <td>70</td>\n",
       "      <td>58</td>\n",
       "      <td>84</td>\n",
       "    </tr>\n",
       "  </tbody>\n",
       "</table>\n",
       "</div>"
      ],
      "text/plain": [
       "   Roll Number       Name Gender  Marks1  Marks2  Marks3\n",
       "0            1        Ada      F      85      45      75\n",
       "1            2       Alan      M      72      38      80\n",
       "2            3      Grace      F      90      50      85\n",
       "3            4      Linus      M      65      42      70\n",
       "4            5        Tim      M      88      55      90\n",
       "5            6   Margaret      F      92      60      88\n",
       "6            7      Guido      M      78      35      82\n",
       "7            8     Dennis      M      81      48      79\n",
       "8            9  Katherine      F      95      52      92\n",
       "9           10       Elon      M      70      58      84"
      ]
     },
     "execution_count": 11,
     "metadata": {},
     "output_type": "execute_result"
    }
   ],
   "source": [
    "data = {\n",
    "    'Roll Number': [1, 2, 3, 4, 5, 6, 7, 8, 9, 10],\n",
    "    'Name': ['Ada', 'Alan', 'Grace', 'Linus', 'Tim', \n",
    "             'Margaret', 'Guido', 'Dennis', 'Katherine', 'Elon'],\n",
    "    'Gender': ['F', 'M', 'F', 'M', 'M', 'F', 'M', 'M', 'F', 'M'],\n",
    "    'Marks1': [85, 72, 90, 65, 88, 92, 78, 81, 95, 70],\n",
    "    'Marks2': [45, 38, 50, 42, 55, 60, 35, 48, 52, 58],\n",
    "    'Marks3': [75, 80, 85, 70, 90, 88, 82, 79, 92, 84]\n",
    "}\n",
    "df = pd.DataFrame(data)\n",
    "df"
   ]
  },
  {
   "cell_type": "code",
   "execution_count": 12,
   "metadata": {},
   "outputs": [
    {
     "data": {
      "text/html": [
       "<div>\n",
       "<style scoped>\n",
       "    .dataframe tbody tr th:only-of-type {\n",
       "        vertical-align: middle;\n",
       "    }\n",
       "\n",
       "    .dataframe tbody tr th {\n",
       "        vertical-align: top;\n",
       "    }\n",
       "\n",
       "    .dataframe thead th {\n",
       "        text-align: right;\n",
       "    }\n",
       "</style>\n",
       "<table border=\"1\" class=\"dataframe\">\n",
       "  <thead>\n",
       "    <tr style=\"text-align: right;\">\n",
       "      <th></th>\n",
       "      <th>Roll Number</th>\n",
       "      <th>Name</th>\n",
       "      <th>Gender</th>\n",
       "      <th>Marks1</th>\n",
       "      <th>Marks2</th>\n",
       "      <th>Marks3</th>\n",
       "      <th>Total Marks</th>\n",
       "    </tr>\n",
       "  </thead>\n",
       "  <tbody>\n",
       "    <tr>\n",
       "      <th>0</th>\n",
       "      <td>1</td>\n",
       "      <td>Ada</td>\n",
       "      <td>F</td>\n",
       "      <td>85</td>\n",
       "      <td>45</td>\n",
       "      <td>75</td>\n",
       "      <td>205</td>\n",
       "    </tr>\n",
       "    <tr>\n",
       "      <th>1</th>\n",
       "      <td>2</td>\n",
       "      <td>Alan</td>\n",
       "      <td>M</td>\n",
       "      <td>72</td>\n",
       "      <td>38</td>\n",
       "      <td>80</td>\n",
       "      <td>190</td>\n",
       "    </tr>\n",
       "    <tr>\n",
       "      <th>2</th>\n",
       "      <td>3</td>\n",
       "      <td>Grace</td>\n",
       "      <td>F</td>\n",
       "      <td>90</td>\n",
       "      <td>50</td>\n",
       "      <td>85</td>\n",
       "      <td>225</td>\n",
       "    </tr>\n",
       "    <tr>\n",
       "      <th>3</th>\n",
       "      <td>4</td>\n",
       "      <td>Linus</td>\n",
       "      <td>M</td>\n",
       "      <td>65</td>\n",
       "      <td>42</td>\n",
       "      <td>70</td>\n",
       "      <td>177</td>\n",
       "    </tr>\n",
       "    <tr>\n",
       "      <th>4</th>\n",
       "      <td>5</td>\n",
       "      <td>Tim</td>\n",
       "      <td>M</td>\n",
       "      <td>88</td>\n",
       "      <td>55</td>\n",
       "      <td>90</td>\n",
       "      <td>233</td>\n",
       "    </tr>\n",
       "    <tr>\n",
       "      <th>5</th>\n",
       "      <td>6</td>\n",
       "      <td>Margaret</td>\n",
       "      <td>F</td>\n",
       "      <td>92</td>\n",
       "      <td>60</td>\n",
       "      <td>88</td>\n",
       "      <td>240</td>\n",
       "    </tr>\n",
       "    <tr>\n",
       "      <th>6</th>\n",
       "      <td>7</td>\n",
       "      <td>Guido</td>\n",
       "      <td>M</td>\n",
       "      <td>78</td>\n",
       "      <td>35</td>\n",
       "      <td>82</td>\n",
       "      <td>195</td>\n",
       "    </tr>\n",
       "    <tr>\n",
       "      <th>7</th>\n",
       "      <td>8</td>\n",
       "      <td>Dennis</td>\n",
       "      <td>M</td>\n",
       "      <td>81</td>\n",
       "      <td>48</td>\n",
       "      <td>79</td>\n",
       "      <td>208</td>\n",
       "    </tr>\n",
       "    <tr>\n",
       "      <th>8</th>\n",
       "      <td>9</td>\n",
       "      <td>Katherine</td>\n",
       "      <td>F</td>\n",
       "      <td>95</td>\n",
       "      <td>52</td>\n",
       "      <td>92</td>\n",
       "      <td>239</td>\n",
       "    </tr>\n",
       "    <tr>\n",
       "      <th>9</th>\n",
       "      <td>10</td>\n",
       "      <td>Elon</td>\n",
       "      <td>M</td>\n",
       "      <td>70</td>\n",
       "      <td>58</td>\n",
       "      <td>84</td>\n",
       "      <td>212</td>\n",
       "    </tr>\n",
       "  </tbody>\n",
       "</table>\n",
       "</div>"
      ],
      "text/plain": [
       "   Roll Number       Name Gender  Marks1  Marks2  Marks3  Total Marks\n",
       "0            1        Ada      F      85      45      75          205\n",
       "1            2       Alan      M      72      38      80          190\n",
       "2            3      Grace      F      90      50      85          225\n",
       "3            4      Linus      M      65      42      70          177\n",
       "4            5        Tim      M      88      55      90          233\n",
       "5            6   Margaret      F      92      60      88          240\n",
       "6            7      Guido      M      78      35      82          195\n",
       "7            8     Dennis      M      81      48      79          208\n",
       "8            9  Katherine      F      95      52      92          239\n",
       "9           10       Elon      M      70      58      84          212"
      ]
     },
     "execution_count": 12,
     "metadata": {},
     "output_type": "execute_result"
    }
   ],
   "source": [
    "df['Total Marks'] = df['Marks1'] + df['Marks2'] + df['Marks3']\n",
    "df"
   ]
  },
  {
   "cell_type": "code",
   "execution_count": 13,
   "metadata": {},
   "outputs": [
    {
     "name": "stdout",
     "output_type": "stream",
     "text": [
      "Lowest marks in Marks1: 65\n"
     ]
    }
   ],
   "source": [
    "lowest_marks1 = df['Marks1'].min()\n",
    "print(f\"Lowest marks in Marks1: {lowest_marks1}\")"
   ]
  },
  {
   "cell_type": "code",
   "execution_count": 14,
   "metadata": {},
   "outputs": [
    {
     "name": "stdout",
     "output_type": "stream",
     "text": [
      "Highest marks in Marks2: 60\n"
     ]
    }
   ],
   "source": [
    "highest_marks2 = df['Marks2'].max()\n",
    "print(f\"Highest marks in Marks2: {highest_marks2}\")"
   ]
  },
  {
   "cell_type": "code",
   "execution_count": 15,
   "metadata": {},
   "outputs": [
    {
     "name": "stdout",
     "output_type": "stream",
     "text": [
      "Average marks in Marks3: 82.5\n"
     ]
    }
   ],
   "source": [
    "average_marks3 = df['Marks3'].mean()\n",
    "print(f\"Average marks in Marks3: {average_marks3}\")"
   ]
  },
  {
   "cell_type": "code",
   "execution_count": 16,
   "metadata": {},
   "outputs": [
    {
     "name": "stdout",
     "output_type": "stream",
     "text": [
      "Student with the highest average: Margaret\n"
     ]
    }
   ],
   "source": [
    "df['Average Marks'] = df[['Marks1', 'Marks2', 'Marks3']].mean(axis=1)\n",
    "student_highest_avg = df.loc[df['Average Marks'].idxmax(), 'Name']\n",
    "print(f\"Student with the highest average: {student_highest_avg}\")"
   ]
  },
  {
   "cell_type": "code",
   "execution_count": 17,
   "metadata": {},
   "outputs": [
    {
     "data": {
      "text/plain": [
       "2"
      ]
     },
     "execution_count": 17,
     "metadata": {},
     "output_type": "execute_result"
    }
   ],
   "source": [
    "failed_students = df[df['Marks2'] < 40].shape[0]\n",
    "failed_students"
   ]
  }
 ],
 "metadata": {
  "kernelspec": {
   "display_name": "Python 3",
   "language": "python",
   "name": "python3"
  },
  "language_info": {
   "codemirror_mode": {
    "name": "ipython",
    "version": 3
   },
   "file_extension": ".py",
   "mimetype": "text/x-python",
   "name": "python",
   "nbconvert_exporter": "python",
   "pygments_lexer": "ipython3",
   "version": "3.10.12"
  }
 },
 "nbformat": 4,
 "nbformat_minor": 2
}
