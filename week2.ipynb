{
 "cells": [
  {
   "cell_type": "code",
   "execution_count": 3,
   "id": "4b5aed90",
   "metadata": {},
   "outputs": [],
   "source": [
    "# Data Visualization\n",
    "# BTech Computer Science Stream\n",
    "# Week 2: Python Language Basics\n",
    "# Kenneth Francis Rodrigues, 240905112, 3/1/2025"
   ]
  },
  {
   "cell_type": "code",
   "execution_count": 4,
   "id": "6586effc",
   "metadata": {},
   "outputs": [
    {
     "name": "stdout",
     "output_type": "stream",
     "text": [
      "enter the elements: \n",
      "largest: 3\n",
      "smallest: 1\n",
      "sum: 10\n",
      "average: 2.0\n",
      "count of occurrences:\n",
      "1: 2\n",
      "3: 2\n",
      "2: 1\n"
     ]
    }
   ],
   "source": [
    "# Problem 1: Write a Python code block that inputs numbers into a list. Print \n",
    "# the largest, smallest, the sum, and the average of the numbers. \n",
    "# Count occurrences of a specific number in the list. \n",
    "def prob1():\n",
    "    n = int(input('enter number of elements: '))\n",
    "    a = []\n",
    "    print('enter the elements: ')\n",
    "    for _ in range(n):\n",
    "        a.append(int(input()))\n",
    "    largest = a[0]\n",
    "    smallest = a[0]\n",
    "    sum = 0\n",
    "    hashmap = {}\n",
    "    for x in a:\n",
    "        largest = max(x,largest)\n",
    "        smallest = min(x,smallest)\n",
    "        sum += x\n",
    "        if x in hashmap:\n",
    "            hashmap[x]+=1\n",
    "        else:\n",
    "            hashmap[x]=1\n",
    "    print(f'largest: {largest}')\n",
    "    print(f'smallest: {smallest}')\n",
    "    print(f'sum: {sum}')\n",
    "    print(f'average: {sum/n}')\n",
    "    print('count of occurrences:')\n",
    "    for key,val in hashmap.items():\n",
    "        print(f'{key}: {val}')\n",
    "prob1()"
   ]
  },
  {
   "cell_type": "code",
   "execution_count": 5,
   "id": "efb1fc7c",
   "metadata": {},
   "outputs": [
    {
     "name": "stdout",
     "output_type": "stream",
     "text": [
      "tuples are immutable and their elements cannot be changed\n"
     ]
    }
   ],
   "source": [
    "# Problem 2: Write a Python code block to create a tuple with five elements. \n",
    "# Try to change one of the elements and handle the error that \n",
    "# occurs. Print a message that explains why the error occurred. \n",
    "tup = (1,2,3,4,5)\n",
    "try:\n",
    "    tup[3] = 6\n",
    "except TypeError:\n",
    "    print('tuples are immutable and their elements cannot be changed')"
   ]
  },
  {
   "cell_type": "code",
   "execution_count": 7,
   "id": "53ddb186",
   "metadata": {},
   "outputs": [
    {
     "name": "stdout",
     "output_type": "stream",
     "text": [
      "Enter each year and its respective winner eg:1988 Zimbabwe\n",
      "Best performer:  Indonesia\n",
      "Unique winners with their win count:\n",
      "Austrailia: 2\n",
      "England: 1\n",
      "Indonesia: 3\n"
     ]
    }
   ],
   "source": [
    "# Write a Python code block to create a dictionary of cricket World \n",
    "# Cup winners. Let the key be the year; the value is the country that \n",
    "# won the World Cup that year. Print the name of the best\n",
    "# performing country.  Display the unique list of countries that \n",
    "# have won the World Cup.\n",
    "def prob3():\n",
    "    n = int(input('Enter number of years: '))\n",
    "    wc_winners = {}\n",
    "    print('Enter each year and its respective winner eg:1988 Zimbabwe')\n",
    "    hashmap = {}\n",
    "    for _ in range(n):\n",
    "        inp = input()\n",
    "        year = inp.split(' ')[0]\n",
    "        winner = inp.split(' ')[1]\n",
    "        wc_winners[year] = winner\n",
    "    for key,val in wc_winners.items():\n",
    "        if val in hashmap:\n",
    "            hashmap[val] +=1\n",
    "        else:\n",
    "            hashmap[val] = 1\n",
    "    print('Best performer: ',max(hashmap,key = hashmap.get))\n",
    "    print('Unique winners with their win count:')\n",
    "    for key,val in hashmap.items():\n",
    "        print(f'{key}: {val}')\n",
    "prob3()"
   ]
  },
  {
   "cell_type": "code",
   "execution_count": 20,
   "id": "e847092c",
   "metadata": {},
   "outputs": [
    {
     "name": "stdout",
     "output_type": "stream",
     "text": [
      "Enter a sentenceThis is a sentence and it is a sentence that has multiples words and is big.\n",
      "Words and their frequencies\n",
      "This: 1\n",
      "is: 3\n",
      "a: 2\n",
      "sentence: 2\n",
      "and: 2\n",
      "it: 1\n",
      "that: 1\n",
      "has: 1\n",
      "multiples: 1\n",
      "words: 1\n",
      "big.: 1\n"
     ]
    }
   ],
   "source": [
    "# Problem 4: Write a Python code block that inputs a sentence from the user. \n",
    "# Count the frequency of each word in the sentence and store the \n",
    "# result in a dictionary. Prints the dictionary with words as keys \n",
    "# and their frequencies as values.\n",
    "\n",
    "def prob4():\n",
    "    s = input('Enter a sentence').split(' ')\n",
    "    d = {}\n",
    "    for i in s:\n",
    "        if i in d:\n",
    "            d[i] += 1\n",
    "        else:\n",
    "            d[i] = 1\n",
    "    print('Words and their frequencies')\n",
    "    for key,val in d.items():\n",
    "        print(f'{key}: {val}')\n",
    "prob4()"
   ]
  },
  {
   "cell_type": "code",
   "execution_count": 8,
   "id": "6c25a815",
   "metadata": {},
   "outputs": [
    {
     "name": "stdout",
     "output_type": "stream",
     "text": [
      "Enter set 1\n",
      "Enter set 2\n",
      "Union: {1, 2, 3, 4, 5, 6, 7, 8, 9}\n",
      "Intersection: {5, 6, 7}\n",
      "Difference: {1, 2, 3, 4}\n"
     ]
    }
   ],
   "source": [
    "# Problem 5: Write a Python code block to input numbers into two sets.  \n",
    "# Perform union, intersection, and difference operations on the sets \n",
    "# and print the results. \n",
    "def prob5():\n",
    "    print('Enter set 1')\n",
    "    s1 = set([int(x) for x in input().split(' ')])\n",
    "    print('Enter set 2')\n",
    "    s2 = set([int(x) for x in input().split(' ')])\n",
    "    print(f'Union: {s1|s2}')\n",
    "    print(f'Intersection: {s1&s2}')\n",
    "    print(f'Difference: {s1-s2}')\n",
    "prob5()"
   ]
  }
 ],
 "metadata": {
  "kernelspec": {
   "display_name": "Python 3",
   "language": "python",
   "name": "python3"
  },
  "language_info": {
   "codemirror_mode": {
    "name": "ipython",
    "version": 3
   },
   "file_extension": ".py",
   "mimetype": "text/x-python",
   "name": "python",
   "nbconvert_exporter": "python",
   "pygments_lexer": "ipython3",
   "version": "3.10.12"
  }
 },
 "nbformat": 4,
 "nbformat_minor": 5
}
