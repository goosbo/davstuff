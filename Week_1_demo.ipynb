{
 "cells": [
  {
   "cell_type": "code",
   "execution_count": 1,
   "id": "9691874c",
   "metadata": {},
   "outputs": [],
   "source": [
    "# Data Visualization\n",
    "# BTech Computer Science Stream 2025\n",
    "# Week 1 Python Language Basics\n",
    "# Kenneth Francis Rodrigues, 240905112, 3/1/2025"
   ]
  },
  {
   "cell_type": "code",
   "execution_count": 2,
   "id": "da62245e",
   "metadata": {},
   "outputs": [
    {
     "name": "stdout",
     "output_type": "stream",
     "text": [
      "Hello world!\n"
     ]
    }
   ],
   "source": [
    "print(\"Hello world!\")"
   ]
  },
  {
   "cell_type": "code",
   "execution_count": 3,
   "id": "344ce4e6",
   "metadata": {},
   "outputs": [
    {
     "name": "stdout",
     "output_type": "stream",
     "text": [
      "Var_3 =  5\n"
     ]
    }
   ],
   "source": [
    "# Python Language basics - Dynamic references, strong types: no inherent variable type\n",
    "# Scalar data types - Integer\n",
    "# Use variables with snake case or camel case\n",
    "var_1 = 2\n",
    "var_2 = 3\n",
    "var_3 = var_1 + var_2\n",
    "print('Var_3 = ',var_3)"
   ]
  },
  {
   "cell_type": "code",
   "execution_count": 4,
   "id": "22a89fbd",
   "metadata": {},
   "outputs": [
    {
     "name": "stdout",
     "output_type": "stream",
     "text": [
      "0.6666666666666666\n",
      "0\n"
     ]
    }
   ],
   "source": [
    "# Mathematical Operations\n",
    "print(var_1/var_2)\n",
    "print(var_1//var_2)"
   ]
  },
  {
   "cell_type": "code",
   "execution_count": 5,
   "id": "9dc817a0",
   "metadata": {},
   "outputs": [
    {
     "name": "stdout",
     "output_type": "stream",
     "text": [
      "0.34568\n"
     ]
    }
   ],
   "source": [
    "# Scalar Data Types - float\n",
    "var_f1 =0.345\n",
    "var_f2 = 6.8e-4\n",
    "print(var_f1+var_f2)"
   ]
  },
  {
   "cell_type": "code",
   "execution_count": 6,
   "id": "d32175df",
   "metadata": {},
   "outputs": [
    {
     "name": "stdout",
     "output_type": "stream",
     "text": [
      "String that spans\n",
      "Multiple Lines\n",
      "\n"
     ]
    },
    {
     "data": {
      "text/plain": [
       "2"
      ]
     },
     "execution_count": 6,
     "metadata": {},
     "output_type": "execute_result"
    }
   ],
   "source": [
    "# Scalar Data Types - String\n",
    "var_str1 = 'This is my first Python class'\n",
    "var_str2 = \"\"\"String that spans\n",
    "Multiple Lines\n",
    "\"\"\"\n",
    "print(var_str2)\n",
    "var_str2.count('\\n')"
   ]
  },
  {
   "cell_type": "code",
   "execution_count": 7,
   "id": "475b31b6",
   "metadata": {},
   "outputs": [
    {
     "data": {
      "text/plain": [
       "'This is my first Python demonstration'"
      ]
     },
     "execution_count": 7,
     "metadata": {},
     "output_type": "execute_result"
    }
   ],
   "source": [
    "# Python Language Basics - Tab Completion\n",
    "# Scalar Data Types  - Strings are immutable\n",
    "# String is a classs, can see all supported methods\n",
    "\n",
    "var_str3 = var_str1.replace('class','demonstration')\n",
    "var_str3"
   ]
  },
  {
   "cell_type": "code",
   "execution_count": 8,
   "id": "0bf2111f",
   "metadata": {},
   "outputs": [],
   "source": [
    "# Scala Data Types - boolean\n",
    "var_bool1 = True\n",
    "var_bool2 = False\n",
    "# Question mark displays the details of the variable\n",
    "var_bool1?"
   ]
  },
  {
   "cell_type": "code",
   "execution_count": 9,
   "id": "2a85be8d",
   "metadata": {},
   "outputs": [
    {
     "name": "stdout",
     "output_type": "stream",
     "text": [
      "<class 'int'>\n",
      "<class 'bool'>\n"
     ]
    }
   ],
   "source": [
    "# Type Casting: The str, bool, int, float types are also type casting functions for their respective types\n",
    "var_int = 1\n",
    "var_bool3 = bool(var_int)\n",
    "var_bool3\n",
    "print(type(var_int))\n",
    "print(type(var_bool3))"
   ]
  },
  {
   "cell_type": "code",
   "execution_count": 10,
   "id": "80b14ee4",
   "metadata": {},
   "outputs": [],
   "source": [
    "# None is the python null value\n",
    "def fn_add_maybe_multiply(var_1,var_2,var_3=None):\n",
    "    result = var_1 + var_2\n",
    "    if var_3 is not None:\n",
    "        result *= var_3\n",
    "    return result"
   ]
  },
  {
   "cell_type": "code",
   "execution_count": 11,
   "id": "fc41f2ca",
   "metadata": {},
   "outputs": [
    {
     "name": "stdout",
     "output_type": "stream",
     "text": [
      "3\n",
      "3\n"
     ]
    },
    {
     "data": {
      "text/plain": [
       "30"
      ]
     },
     "execution_count": 11,
     "metadata": {},
     "output_type": "execute_result"
    }
   ],
   "source": [
    "fn_add_maybe_multiply?\n",
    "print(fn_add_maybe_multiply(1,2,None))\n",
    "print(fn_add_maybe_multiply(1,2))\n",
    "fn_add_maybe_multiply(1,2,10)"
   ]
  },
  {
   "cell_type": "code",
   "execution_count": 12,
   "id": "4d759105",
   "metadata": {},
   "outputs": [
    {
     "name": "stdout",
     "output_type": "stream",
     "text": [
      "it is negative\n"
     ]
    }
   ],
   "source": [
    "# Python Language basics- control flow\n",
    "var_a = -5\n",
    "if var_a < 0:\n",
    "    print(\"it is negative\")"
   ]
  },
  {
   "cell_type": "code",
   "execution_count": 13,
   "id": "0598a552",
   "metadata": {},
   "outputs": [
    {
     "name": "stdout",
     "output_type": "stream",
     "text": [
      "positive but greater than or equal to 5\n"
     ]
    }
   ],
   "source": [
    "var_a = 5\n",
    "if var_a < 0:\n",
    "    print(\"it is negative\")\n",
    "elif var_a == 0:\n",
    "    print(\"It is zero\")\n",
    "elif 0 < var_a < 5:\n",
    "    print(\"positive but smaller than 5\")\n",
    "else:\n",
    "    print(\"positive but greater than or equal to 5\")"
   ]
  },
  {
   "cell_type": "code",
   "execution_count": 14,
   "id": "5d1d4c06",
   "metadata": {},
   "outputs": [
    {
     "data": {
      "text/plain": [
       "12"
      ]
     },
     "execution_count": 14,
     "metadata": {},
     "output_type": "execute_result"
    }
   ],
   "source": [
    "# Python Language basics - for loops \n",
    "var_seq = [1,2,None,4,None,5]\n",
    "var_tot= 0\n",
    "for v in var_seq:\n",
    "    if v is None:\n",
    "        continue\n",
    "    var_tot += v\n",
    "var_tot"
   ]
  },
  {
   "cell_type": "code",
   "execution_count": 15,
   "id": "5166020d",
   "metadata": {},
   "outputs": [
    {
     "data": {
      "text/plain": [
       "13"
      ]
     },
     "execution_count": 15,
     "metadata": {},
     "output_type": "execute_result"
    }
   ],
   "source": [
    "var_seq2 = [1,2,0,4,6,5,2,1]\n",
    "var_tot_until_5 = 0\n",
    "for v in var_seq2:\n",
    "    if v == 5:\n",
    "        break\n",
    "    var_tot_until_5 += v\n",
    "var_tot_until_5"
   ]
  },
  {
   "cell_type": "code",
   "execution_count": 16,
   "id": "e5c91259",
   "metadata": {},
   "outputs": [
    {
     "data": {
      "text/plain": [
       "504"
      ]
     },
     "execution_count": 16,
     "metadata": {},
     "output_type": "execute_result"
    }
   ],
   "source": [
    "# Python Language Basics - While Loop\n",
    "var_a = 256\n",
    "total = 0\n",
    "while var_a >0:\n",
    "    if total > 500:\n",
    "        break\n",
    "    total += var_a\n",
    "    var_a //= 2\n",
    "total"
   ]
  },
  {
   "cell_type": "code",
   "execution_count": 17,
   "id": "53644a49",
   "metadata": {},
   "outputs": [],
   "source": [
    "# python language basics  pass is the no-op\n",
    "var = 0\n",
    "if var< 0:\n",
    "    print(\"negative\")\n",
    "elif var == 0:\n",
    "    pass # no operation\n",
    "else:\n",
    "    print(\"positive\")"
   ]
  },
  {
   "cell_type": "code",
   "execution_count": 18,
   "id": "d01a0458",
   "metadata": {},
   "outputs": [
    {
     "data": {
      "text/plain": [
       "[0, 1, 2, 3, 4, 5, 6, 7, 8, 9]"
      ]
     },
     "execution_count": 18,
     "metadata": {},
     "output_type": "execute_result"
    }
   ],
   "source": [
    "# range generates a sequence with a range of numbers\n",
    "list(range(10))"
   ]
  },
  {
   "cell_type": "code",
   "execution_count": 19,
   "id": "d25c8c32",
   "metadata": {},
   "outputs": [
    {
     "name": "stdout",
     "output_type": "stream",
     "text": [
      "1\n",
      "2\n",
      "3\n",
      "4\n"
     ]
    }
   ],
   "source": [
    "seq = [1,2,3,4]\n",
    "for i in range(len(seq)):\n",
    "    print(seq[i])"
   ]
  }
 ],
 "metadata": {
  "kernelspec": {
   "display_name": "Python 3 (ipykernel)",
   "language": "python",
   "name": "python3"
  },
  "language_info": {
   "codemirror_mode": {
    "name": "ipython",
    "version": 3
   },
   "file_extension": ".py",
   "mimetype": "text/x-python",
   "name": "python",
   "nbconvert_exporter": "python",
   "pygments_lexer": "ipython3",
   "version": "3.9.13"
  }
 },
 "nbformat": 4,
 "nbformat_minor": 5
}
