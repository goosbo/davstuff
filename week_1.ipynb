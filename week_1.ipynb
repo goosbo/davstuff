{
 "cells": [
  {
   "cell_type": "code",
   "execution_count": 1,
   "id": "538293cd",
   "metadata": {},
   "outputs": [],
   "source": [
    "# Data Visualization\n",
    "# BTech Computer Science Stream\n",
    "# Week 1: Python Language Basics\n",
    "# Kenneth Francis Rodrigues, 240905112, 3/1/2025"
   ]
  },
  {
   "cell_type": "code",
   "execution_count": 2,
   "id": "6bbd60bb",
   "metadata": {},
   "outputs": [
    {
     "name": "stdout",
     "output_type": "stream",
     "text": [
      "Enter first number: 20\n",
      "Enter second number: 5\n",
      "20 + 5 = 25\n",
      "20 - 5 = 15\n",
      "20 * 5 = 100\n",
      "20 / 5 = 4.0\n"
     ]
    }
   ],
   "source": [
    "# Exercise 1: Write a Python function to input two numbers and perform the Calculator operations of (+, -, *, /).  \\\n",
    "\n",
    "def calculator_operations():\n",
    "    # inputs the two numbers\n",
    "    a = int(input('Enter first number: '))\n",
    "    b = int(input('Enter second number: '))\n",
    "    \n",
    "    # calculation and printing of each of the elementary arithmetic operations\n",
    "    print(f\"{a} + {b} = {a+b}\")\n",
    "    print(f\"{a} - {b} = {a-b}\")\n",
    "    print(f\"{a} * {b} = {a*b}\")\n",
    "    print(f\"{a} / {b} = {a/b}\")\n",
    "\n",
    "calculator_operations()"
   ]
  },
  {
   "cell_type": "code",
   "execution_count": 3,
   "id": "0ad9d105",
   "metadata": {},
   "outputs": [
    {
     "name": "stdout",
     "output_type": "stream",
     "text": [
      "19:  True\n",
      "1:  False\n",
      "14:  False\n"
     ]
    }
   ],
   "source": [
    "# Exercise 2: Write a Python function that takes an integer and returns True if it’s a prime number and False otherwise. \n",
    "\n",
    "def is_prime(x):\n",
    "    if x == 1: # 1 is not prime\n",
    "        return False\n",
    "    # returns False if x has a factor that is not 1 or itself\n",
    "    for i in range(2,x//2):\n",
    "        if x % i == 0:\n",
    "            return False\n",
    "    # returns True if factors not found\n",
    "    return True\n",
    "\n",
    "# some examples\n",
    "print(\"19: \",is_prime(19))\n",
    "print(\"1: \",is_prime(1))\n",
    "print(\"14: \",is_prime(14))"
   ]
  },
  {
   "cell_type": "code",
   "execution_count": 4,
   "id": "6601cc26",
   "metadata": {},
   "outputs": [
    {
     "name": "stdout",
     "output_type": "stream",
     "text": [
      "Odd numbers:\n",
      "1 3 5 7 9 11 13 15 17 19 21 23 25 27 29 31 33 35 37 39 41 43 45 47 49 51 53 55 57 59 61 63 65 67 69 71 73 75 77 79 81 83 85 87 89 91 93 95 97 99 \n",
      "Even number sum:  2550\n"
     ]
    }
   ],
   "source": [
    "# Exercise 3: Create a Python function that creates a sequence between 1 and 100 and prints all the odd numbers. Compute and display the sum of all the even numbers.\n",
    "\n",
    "def odd_even_stuff():\n",
    "    nums = list(range(1,101))# creates a sequence from 1 to 100\n",
    "    even_sum = 0\n",
    "    print('Odd numbers:')\n",
    "    for x in nums:\n",
    "        if x % 2==0: # checks if number is even\n",
    "            even_sum += x\n",
    "        else:\n",
    "            print(x,end =\" \")\n",
    "    print('\\nEven number sum: ',even_sum)\n",
    "\n",
    "odd_even_stuff()"
   ]
  },
  {
   "cell_type": "code",
   "execution_count": 5,
   "id": "f34d3a18",
   "metadata": {},
   "outputs": [
    {
     "name": "stdout",
     "output_type": "stream",
     "text": [
      "483.43 + 76: 559.4300000000001\n",
      "78.43 + 12: 90.43\n",
      "0.341 + 3: 3.341\n",
      "abcd + 43: abcd43\n"
     ]
    }
   ],
   "source": [
    "# Exercise 4: Write a Python function to add two elements and display the result. The elements can be of type integer, float or string.\n",
    "\n",
    "def add_two(a,b):\n",
    "    # tries to convert input to valid numbers\n",
    "    try:\n",
    "        a = eval(str(a))\n",
    "        b = eval(str(b))\n",
    "        print(f\"{a} + {b}: {a+b}\")\n",
    "    # if the input string is not a number then it concatenates the input\n",
    "    except NameError:\n",
    "        print(f\"{a} + {b}: {str(a)+str(b)}\")\n",
    "add_two(\"483.43\",76)\n",
    "add_two(78.43,12)\n",
    "add_two(0.341,\"3\")\n",
    "add_two(\"abcd\",43)"
   ]
  },
  {
   "cell_type": "code",
   "execution_count": 6,
   "id": "47b14419",
   "metadata": {},
   "outputs": [
    {
     "name": "stdout",
     "output_type": "stream",
     "text": [
      "Enter a string: abcdefndkfja78324$\n",
      "Vowel count: 3\n",
      "Consonant count: 9\n"
     ]
    }
   ],
   "source": [
    "# Exercise 5: Write a Python function that takes a string input from the user and counts the number of vowels and consonants in the string.\n",
    "\n",
    "def vowel_consonant_count():\n",
    "    s = input('Enter a string: ').lower() # converts the input to lower case for convenience\n",
    "    v_count = 0\n",
    "    c_count = 0\n",
    "    for c in s:\n",
    "        # checks for vowel\n",
    "        if c == 'a' or c == 'e' or c == 'i' or c == 'o' or c == 'u':\n",
    "            v_count += 1\n",
    "        # checks if character is not a special char or digit\n",
    "        elif c >= 'a' and c <='z':\n",
    "            c_count += 1\n",
    "    print(f\"Vowel count: {v_count}\")\n",
    "    print(f\"Consonant count: {c_count}\")\n",
    "    \n",
    "vowel_consonant_count()"
   ]
  },
  {
   "cell_type": "code",
   "execution_count": 7,
   "id": "91597830",
   "metadata": {},
   "outputs": [
    {
     "name": "stdout",
     "output_type": "stream",
     "text": [
      "1 \n",
      "2 3 \n",
      "4 5 6 \n",
      "7 8 9 10 \n",
      "11 12 13 14 15 \n",
      "16 17 18 19 20 21 \n"
     ]
    }
   ],
   "source": [
    "# Extra Stuff\n",
    "# Extra 1 - triangle pattern\n",
    "# Example:\n",
    "# 1\n",
    "# 2 3\n",
    "# 4 5 6\n",
    "# 7 8 9 10\n",
    "\n",
    "def pattern(n):# n is number of lines\n",
    "    x = 1\n",
    "    for i in range(1,n+1):\n",
    "        for _ in range(i):\n",
    "            print(x,end=\" \")\n",
    "            x += 1\n",
    "        print()\n",
    "        \n",
    "pattern(6)"
   ]
  },
  {
   "cell_type": "code",
   "execution_count": 8,
   "id": "e0e7b887",
   "metadata": {},
   "outputs": [
    {
     "name": "stdout",
     "output_type": "stream",
     "text": [
      "Factorial of 5: 120\n",
      "Factorial of 7: 5040\n",
      "Factorial of 0: 1\n"
     ]
    }
   ],
   "source": [
    "# Extra 2 - factorial\n",
    "\n",
    "def factorial(n):\n",
    "    if n == 0 or n == 1:\n",
    "        return 1\n",
    "    return n * factorial(n-1)\n",
    "\n",
    "print(f\"Factorial of 5: {factorial(5)}\")\n",
    "print(f\"Factorial of 7: {factorial(7)}\")\n",
    "print(f\"Factorial of 0: {factorial(0)}\")"
   ]
  },
  {
   "cell_type": "code",
   "execution_count": 9,
   "id": "165c1e25",
   "metadata": {},
   "outputs": [
    {
     "name": "stdout",
     "output_type": "stream",
     "text": [
      "'aabaa': True\n",
      "12321: True\n",
      "'abca'': False\n"
     ]
    }
   ],
   "source": [
    "# Extra 3 - check for palindrome\n",
    "\n",
    "def is_palindrome(x):\n",
    "    x = str(x)\n",
    "    if x == x[::-1]:\n",
    "        return True\n",
    "    else:\n",
    "        return False\n",
    "print(f\"\\'aabaa\\': {is_palindrome('aabaa')}\")\n",
    "print(f\"12321: {is_palindrome(12321)}\")\n",
    "print(f\"\\'abca\\'': {is_palindrome('abca')}\")"
   ]
  },
  {
   "cell_type": "code",
   "execution_count": 10,
   "id": "f9bc9471",
   "metadata": {},
   "outputs": [
    {
     "name": "stdout",
     "output_type": "stream",
     "text": [
      "Reverse of 32434: 43423\n"
     ]
    }
   ],
   "source": [
    "# Extra 4 - reversing a number\n",
    "def rev(n):\n",
    "    return int(str(n)[::-1])\n",
    "print(f\"Reverse of 32434: {rev(32434)}\")"
   ]
  },
  {
   "cell_type": "code",
   "execution_count": 11,
   "id": "454c5c07",
   "metadata": {},
   "outputs": [
    {
     "name": "stdout",
     "output_type": "stream",
     "text": [
      "         * \n",
      "        * * \n",
      "       * * * \n",
      "      * * * * \n",
      "     * * * * * \n",
      "    * * * * * * \n",
      "   * * * * * * * \n",
      "  * * * * * * * * \n",
      " * * * * * * * * * \n",
      "* * * * * * * * * * \n",
      " * * * * * * * * * \n",
      "  * * * * * * * * \n",
      "   * * * * * * * \n",
      "    * * * * * * \n",
      "     * * * * * \n",
      "      * * * * \n",
      "       * * * \n",
      "        * * \n",
      "         * \n"
     ]
    }
   ],
   "source": [
    "# Extra 5 - diamond stars\n",
    "def diamond(r): # r is the height of a half diamond(radius of the diamond)\n",
    "    for i in range(1,r+1):\n",
    "        for _ in range(r-i):\n",
    "            print(\" \",end=\"\")\n",
    "        for _ in range(i):\n",
    "            print(\"*\",end=\" \")\n",
    "        print()\n",
    "    for i in range(r-1,0,-1):\n",
    "        for _ in range(r-i):\n",
    "            print(\" \",end=\"\")\n",
    "        for _ in range(i):\n",
    "            print(\"*\",end=\" \")\n",
    "        print()\n",
    "diamond(10)"
   ]
  },
  {
   "cell_type": "code",
   "execution_count": 2,
   "id": "a85b7217",
   "metadata": {},
   "outputs": [
    {
     "name": "stdout",
     "output_type": "stream",
     "text": [
      "         * \n",
      "        * * \n",
      "       * * * \n",
      "      * * * * \n",
      "     * * * * * \n",
      "    * * * * * * \n",
      "   * * * * * * * \n",
      "  * * * * * * * * \n",
      " * * * * * * * * * \n",
      "* * * * * * * * * * \n"
     ]
    }
   ],
   "source": [
    "# Extra 6 triangle\n",
    "def triangle(n):\n",
    "    for i in range(1,n+1):\n",
    "        for _ in range(n-i):\n",
    "            print(\" \",end=\"\")\n",
    "        for _ in range(i):\n",
    "            print(\"*\",end=\" \")\n",
    "        print()\n",
    "triangle(10)"
   ]
  }
 ],
 "metadata": {
  "kernelspec": {
   "display_name": "Python 3 (ipykernel)",
   "language": "python",
   "name": "python3"
  },
  "language_info": {
   "codemirror_mode": {
    "name": "ipython",
    "version": 3
   },
   "file_extension": ".py",
   "mimetype": "text/x-python",
   "name": "python",
   "nbconvert_exporter": "python",
   "pygments_lexer": "ipython3",
   "version": "3.9.13"
  }
 },
 "nbformat": 4,
 "nbformat_minor": 5
}
