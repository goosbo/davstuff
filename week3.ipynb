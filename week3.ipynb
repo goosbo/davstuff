{
 "cells": [
  {
   "cell_type": "code",
   "execution_count": 2,
   "id": "6a04e26b",
   "metadata": {},
   "outputs": [],
   "source": [
    "# Data Visualization\n",
    "# BTech Computer Science Stream\n",
    "# Week 3: Numpy basics and vectorized computation\n",
    "# Kenneth Francis Rodrigues, 240905112, 3/1/2025"
   ]
  },
  {
   "cell_type": "code",
   "execution_count": 3,
   "id": "7451e150",
   "metadata": {},
   "outputs": [],
   "source": [
    "import numpy as np"
   ]
  },
  {
   "cell_type": "code",
   "execution_count": 4,
   "id": "d5d20f72",
   "metadata": {},
   "outputs": [
    {
     "name": "stdout",
     "output_type": "stream",
     "text": [
      "Array:\n",
      " [[45  1 43 12]\n",
      " [22 43 38 46]\n",
      " [45 15 48  6]]\n",
      "mean:  30.333333333333332\n",
      "median:  40.5\n",
      "standard deviation:  16.98201663198128\n",
      "sum of all elements:  364\n",
      "row-wise sum:  [101 149 114]\n",
      "After reshaping:\n",
      "[[45  1 43 12 22 43]\n",
      " [38 46 45 15 48  6]]\n"
     ]
    }
   ],
   "source": [
    "# Problem 1\n",
    "# 1. Generate a 3x4 NumPy array with random integers between 1 \n",
    "# and 50.   \n",
    "# a. Calculate and print the Mean, Median, and Standard Deviation \n",
    "# of the array \n",
    "# b. Print the Sum of all elements and the sum of each row. \n",
    "# c. Reshape the 3x4 array into a 2x6 array and print it. \n",
    "\n",
    "arr = np.random.randint(1,50,(3,4))\n",
    "print('Array:\\n',arr)\n",
    "print('mean: ',np.mean(arr))\n",
    "print('median: ',np.median(arr))\n",
    "print('standard deviation: ',np.std(arr))\n",
    "print('sum of all elements: ',np.sum(arr))\n",
    "print('row-wise sum: ',np.sum(arr,axis=1))\n",
    "arr = np.reshape(arr,(2,6))\n",
    "print('After reshaping:')\n",
    "print(arr)"
   ]
  },
  {
   "cell_type": "code",
   "execution_count": 5,
   "id": "1bd90d01",
   "metadata": {},
   "outputs": [
    {
     "name": "stdout",
     "output_type": "stream",
     "text": [
      "Array 1: \n",
      " [[29 43 55]\n",
      " [29 17  2]\n",
      " [57  4 17]]\n",
      "Array 2: \n",
      " [[17 13 59]\n",
      " [ 8 27 90]\n",
      " [84 24 42]]\n",
      "After Adding:\n",
      " [[ 46  56 114]\n",
      " [ 37  44  92]\n",
      " [141  28  59]]\n",
      "After Subtracting:\n",
      " [[ 12  30  -4]\n",
      " [ 21 -10 -88]\n",
      " [-27 -20 -25]]\n",
      "After Multiplication:\n",
      " [[5457 2858 7891]\n",
      " [ 797  884 3325]\n",
      " [2429 1257 4437]]\n",
      "Array 1 Transpose:\n",
      " [[29 29 57]\n",
      " [43 17  4]\n",
      " [55  2 17]]\n",
      "Array 2 Transpose:\n",
      " [[17  8 84]\n",
      " [13 27 24]\n",
      " [59 90 42]]\n",
      "Determinant of array 1:  -55063.000000000065\n",
      "Determinant of array 2:  -46013.99999999999\n",
      "Inverse of array 1:\n",
      " [[-0.00510325  0.00928028  0.0154187 ]\n",
      " [ 0.00688302  0.0479814  -0.02791348]\n",
      " [ 0.01549135 -0.04240597  0.01369341]]\n",
      "Inverse of array 1:\n",
      " [[ 0.02229756 -0.01890729  0.00919285]\n",
      " [-0.1569957   0.09218933  0.022993  ]\n",
      " [ 0.0451167  -0.01486504 -0.00771504]]\n"
     ]
    }
   ],
   "source": [
    "# Problem 2\n",
    "# 2. Create two (3 * 3) matrices using NumPy and print it. Perform \n",
    "# and print the results of the following linear algebra operations \n",
    "# a. Matrix addition \n",
    "# b. Matrix subtraction \n",
    "# c. Matrix multiplication (element-wise and dot product) \n",
    "# d. Transpose of a matrix \n",
    "# e. Determinant and inverse (if applicable) \n",
    "\n",
    "arr1 = np.random.randint(0,100,(3,3))\n",
    "arr2 = np.random.randint(0,100,(3,3))\n",
    "print('Array 1: \\n',arr1)\n",
    "print('Array 2: \\n',arr2)\n",
    "\n",
    "arradd = arr1 + arr2\n",
    "print('After Adding:\\n',arradd)\n",
    "\n",
    "arrsub = arr1 - arr2\n",
    "print('After Subtracting:\\n',arrsub)\n",
    "\n",
    "arrmul = np.dot(arr1,arr2)\n",
    "print('After Multiplication:\\n',arrmul)\n",
    "\n",
    "print('Array 1 Transpose:\\n',arr1.T)\n",
    "print('Array 2 Transpose:\\n',arr2.T)\n",
    "\n",
    "det1 = np.linalg.det(arr1)\n",
    "det2 = np.linalg.det(arr2)\n",
    "\n",
    "print('Determinant of array 1: ',det1)\n",
    "print('Determinant of array 2: ',det2)\n",
    "\n",
    "if det1 != 0:\n",
    "    inv1 = np.linalg.inv(arr1)\n",
    "    print('Inverse of array 1:\\n',inv1)\n",
    "    \n",
    "if det2 != 0:\n",
    "    inv2 = np.linalg.inv(arr2)\n",
    "    print('Inverse of array 1:\\n',inv2)"
   ]
  },
  {
   "cell_type": "code",
   "execution_count": 8,
   "id": "70afaa55",
   "metadata": {},
   "outputs": [],
   "source": [
    "def magic_check(mat):\n",
    "    nums_used = []\n",
    "    for i in range(len(mat)):\n",
    "        for j in range(len(mat)):\n",
    "            if mat[i][j] not in nums_used:\n",
    "                nums_used.append(a[i][j])\n",
    "            else:\n",
    "                return False\n",
    "    rowsums = [sum(x) for x in mat]\n",
    "    for i in range(1,len(rowsums)):\n",
    "        if rowsums[i] != rowsums[0]:\n",
    "            return False\n",
    "    colsums = [0]*len(mat)\n",
    "    for i in range(len(mat)):\n",
    "        for j in range(len(mat)):\n",
    "            colsums[j] += mat[i][j]\n",
    "    for i in range(1,len(colsums)):\n",
    "        if colsums[i] != colsums[0]:\n",
    "            return False\n",
    "    if colsums[0]!=rowsums[0]:\n",
    "        return False\n",
    "    diagsum1 = 0\n",
    "    diagsum2 = 0\n",
    "    for i in range(len(mat)):\n",
    "        diagsum1 += mat[i][i]\n",
    "        diagsum2 += mat[i][len(mat)-i-1]\n",
    "    if diagsum1 != diagsum2:\n",
    "        return False\n",
    "    if diagsum1 != rowsums[0]:\n",
    "        return False\n",
    "    return True"
   ]
  },
  {
   "cell_type": "code",
   "execution_count": 9,
   "id": "088b05ff",
   "metadata": {},
   "outputs": [
    {
     "name": "stdout",
     "output_type": "stream",
     "text": [
      "True\n"
     ]
    }
   ],
   "source": [
    "a = [[9,2,7],[4,6,8],[5,10,3]]\n",
    "print(magic_check(a))"
   ]
  }
 ],
 "metadata": {
  "kernelspec": {
   "display_name": "Python 3",
   "language": "python",
   "name": "python3"
  },
  "language_info": {
   "codemirror_mode": {
    "name": "ipython",
    "version": 3
   },
   "file_extension": ".py",
   "mimetype": "text/x-python",
   "name": "python",
   "nbconvert_exporter": "python",
   "pygments_lexer": "ipython3",
   "version": "3.10.12"
  }
 },
 "nbformat": 4,
 "nbformat_minor": 5
}
