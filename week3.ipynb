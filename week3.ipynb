{
 "cells": [
  {
   "cell_type": "code",
   "execution_count": 1,
   "id": "6a04e26b",
   "metadata": {},
   "outputs": [],
   "source": [
    "# Data Visualization\n",
    "# BTech Computer Science Stream\n",
    "# Week 3: Numpy basics and vectorized computation\n",
    "# Kenneth Francis Rodrigues, 240905112, 3/1/2025"
   ]
  },
  {
   "cell_type": "code",
   "execution_count": 2,
   "id": "7451e150",
   "metadata": {},
   "outputs": [],
   "source": [
    "import numpy as np"
   ]
  },
  {
   "cell_type": "code",
   "execution_count": 3,
   "id": "d5d20f72",
   "metadata": {},
   "outputs": [
    {
     "name": "stdout",
     "output_type": "stream",
     "text": [
      "Array:\n",
      " [[41  4  3 39]\n",
      " [36 46 27 17]\n",
      " [18 19 31 12]]\n",
      "mean:  24.416666666666668\n",
      "median:  23.0\n",
      "standard deviation:  13.823038337821714\n",
      "sum of all elements:  293\n",
      "row-wise sum:  [ 87 126  80]\n",
      "After reshaping:\n",
      "[[41  4  3 39 36 46]\n",
      " [27 17 18 19 31 12]]\n"
     ]
    }
   ],
   "source": [
    "# Problem 1\n",
    "# 1. Generate a 3x4 NumPy array with random integers between 1 \n",
    "# and 50.   \n",
    "# a. Calculate and print the Mean, Median, and Standard Deviation \n",
    "# of the array \n",
    "# b. Print the Sum of all elements and the sum of each row. \n",
    "# c. Reshape the 3x4 array into a 2x6 array and print it. \n",
    "\n",
    "arr = np.random.randint(1,50,(3,4))\n",
    "print('Array:\\n',arr)\n",
    "print('mean: ',np.mean(arr))\n",
    "print('median: ',np.median(arr))\n",
    "print('standard deviation: ',np.std(arr))\n",
    "print('sum of all elements: ',np.sum(arr))\n",
    "print('row-wise sum: ',np.sum(arr,axis=1))\n",
    "arr = np.reshape(arr,(2,6))\n",
    "print('After reshaping:')\n",
    "print(arr)"
   ]
  },
  {
   "cell_type": "code",
   "execution_count": 4,
   "id": "1bd90d01",
   "metadata": {},
   "outputs": [
    {
     "name": "stdout",
     "output_type": "stream",
     "text": [
      "Array 1: \n",
      " [[75 31 40]\n",
      " [26 16 40]\n",
      " [22  2 28]]\n",
      "Array 2: \n",
      " [[79 90 81]\n",
      " [ 1 50 18]\n",
      " [23 17 80]]\n",
      "After Adding:\n",
      " [[154 121 121]\n",
      " [ 27  66  58]\n",
      " [ 45  19 108]]\n",
      "After Subtracting:\n",
      " [[ -4 -59 -41]\n",
      " [ 25 -34  22]\n",
      " [ -1 -15 -52]]\n",
      "After Multiplication:\n",
      " [[6876 8980 9833]\n",
      " [2990 3820 5594]\n",
      " [2384 2556 4058]]\n",
      "Array 1 Transpose:\n",
      " [[75 26 22]\n",
      " [31 16  2]\n",
      " [40 40 28]]\n",
      "Array 2 Transpose:\n",
      " [[79  1 23]\n",
      " [90 50 17]\n",
      " [81 18 80]]\n",
      "Determinant of array 1:  20312.000000000022\n",
      "Determinant of array 2:  230112.99999999997\n",
      "Inverse of array 1:\n",
      " [[ 0.01811737 -0.0387948   0.02953919]\n",
      " [ 0.00748326  0.06006302 -0.09649468]\n",
      " [-0.01476959  0.02619141  0.0193974 ]]\n",
      "Inverse of array 1:\n",
      " [[ 0.01605298 -0.02530496 -0.01056003]\n",
      " [ 0.00145146  0.01936874 -0.00582757]\n",
      " [-0.00492367  0.00315932  0.01677437]]\n"
     ]
    }
   ],
   "source": [
    "# Problem 2\n",
    "# 2. Create two (3 * 3) matrices using NumPy and print it. Perform \n",
    "# and print the results of the following linear algebra operations \n",
    "# a. Matrix addition \n",
    "# b. Matrix subtraction \n",
    "# c. Matrix multiplication (element-wise and dot product) \n",
    "# d. Transpose of a matrix \n",
    "# e. Determinant and inverse (if applicable) \n",
    "\n",
    "arr1 = np.random.randint(0,100,(3,3))\n",
    "arr2 = np.random.randint(0,100,(3,3))\n",
    "print('Array 1: \\n',arr1)\n",
    "print('Array 2: \\n',arr2)\n",
    "\n",
    "arradd = arr1 + arr2\n",
    "print('After Adding:\\n',arradd)\n",
    "\n",
    "arrsub = arr1 - arr2\n",
    "print('After Subtracting:\\n',arrsub)\n",
    "\n",
    "arrmul = np.dot(arr1,arr2)\n",
    "print('After Multiplication:\\n',arrmul)\n",
    "\n",
    "print('Array 1 Transpose:\\n',arr1.T)\n",
    "print('Array 2 Transpose:\\n',arr2.T)\n",
    "\n",
    "det1 = np.linalg.det(arr1)\n",
    "det2 = np.linalg.det(arr2)\n",
    "\n",
    "print('Determinant of array 1: ',det1)\n",
    "print('Determinant of array 2: ',det2)\n",
    "\n",
    "if det1 != 0:\n",
    "    inv1 = np.linalg.inv(arr1)\n",
    "    print('Inverse of array 1:\\n',inv1)\n",
    "    \n",
    "if det2 != 0:\n",
    "    inv2 = np.linalg.inv(arr2)\n",
    "    print('Inverse of array 1:\\n',inv2)"
   ]
  },
  {
   "cell_type": "code",
   "execution_count": 5,
   "id": "70afaa55",
   "metadata": {},
   "outputs": [],
   "source": [
    "def magic_check(mat):\n",
    "    nums_used = []\n",
    "    for i in range(len(mat)):\n",
    "        for j in range(len(mat)):\n",
    "            if a[i][j] not in nums_used:\n",
    "                nums_used.append(a[i][j])\n",
    "            else:\n",
    "                return False\n",
    "    rowsums = [sum(x) for x in mat]\n",
    "    for i in range(1,len(rowsums)):\n",
    "        if rowsums[i] != rowsums[0]:\n",
    "            return False\n",
    "    colsums = [0]*len(mat)\n",
    "    for i in range(mat):\n",
    "        for j in range(mat):\n",
    "            colsums[j] += mat[i][j]\n",
    "    for i in range(1,len(colsums)):\n",
    "        if colsums[i] != colsums[0]:\n",
    "            return False\n",
    "    if colsums[0]!=rowsums[0]:\n",
    "        return False\n",
    "    diagsum1 = 0\n",
    "    diagsum2 = 0\n",
    "    for i in range(len(mat)):\n",
    "        diagsum1 += mat[i][i]\n",
    "        diagsum2 += mat[i][len(mat)-i-1]\n",
    "    if diagsum1 != diagsum2:\n",
    "        return False\n",
    "    if diagsum1 != rowsums[0]:\n",
    "        return False\n",
    "    return True"
   ]
  }
 ],
 "metadata": {
  "kernelspec": {
   "display_name": "Python 3 (ipykernel)",
   "language": "python",
   "name": "python3"
  },
  "language_info": {
   "codemirror_mode": {
    "name": "ipython",
    "version": 3
   },
   "file_extension": ".py",
   "mimetype": "text/x-python",
   "name": "python",
   "nbconvert_exporter": "python",
   "pygments_lexer": "ipython3",
   "version": "3.9.13"
  }
 },
 "nbformat": 4,
 "nbformat_minor": 5
}
